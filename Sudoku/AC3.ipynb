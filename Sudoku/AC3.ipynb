{
 "cells": [
  {
   "cell_type": "code",
   "execution_count": 203,
   "id": "2ecdec80",
   "metadata": {},
   "outputs": [
    {
     "name": "stdout",
     "output_type": "stream",
     "text": [
      "6 6 8 3 5 6 5 1 4\n",
      "7 2 4 2 8 4 6 1 9\n",
      "9 3 3 1 9 1 8 5 5\n",
      "6 9 7 2 2 9 5 3 4\n",
      "1 8 9 4 6 4 1 8 4\n",
      "3 1 2 3 1 9 9 3 4\n",
      "8 3 5 9 9 6 6 5 6\n",
      "4 2 1 5 9 2 3 2 6\n",
      "2 7 4 8 3 2 4 3 6\n",
      "74\n"
     ]
    }
   ],
   "source": [
    "%run sudoku_parser.ipynb\n",
    "\n"
   ]
  },
  {
   "cell_type": "code",
   "execution_count": 206,
   "id": "185facc1",
   "metadata": {},
   "outputs": [],
   "source": [
    "import copy\n",
    "def assign_values(puzzle):\n",
    "    for row in range(9):\n",
    "        for col in range(9):\n",
    "            dom = puzzle.domains[row][col]\n",
    "            if dom is None:\n",
    "                continue\n",
    "            if len(dom) == 1:\n",
    "                puzzle.set_digit(row,col,dom[0])\n",
    "                puzzle.domains[row][col] = None\n",
    "\n",
    "def make_consistent(domains, index):\n",
    "    check_with_cell = []\n",
    "    if index != None:\n",
    "        check_with_cell.append(index) \n",
    "    for row in range(9):\n",
    "        for col in range(9):\n",
    "            dom = domains[row][col]\n",
    "            if dom is None:\n",
    "                continue\n",
    "            if len(dom) == 1:\n",
    "                check_with_cell.append((row,col,dom[0]))\n",
    "    \n",
    "    while len(check_with_cell) != 0:\n",
    "        current_cell = check_with_cell.pop()\n",
    "        domains_to_check = get_neightbor_domains(current_cell)\n",
    "        for cell in domains_to_check:\n",
    "            if domains[cell[0]][cell[1]] is None:\n",
    "                continue\n",
    "            if current_cell[2] in domains[cell[0]][cell[1]]:\n",
    "                domains[cell[0]][cell[1]].remove(current_cell[2])\n",
    "                if len(domains[cell[0]][cell[1]]) == 1:\n",
    "                    check_with_cell.append((cell[0],cell[1],domains[cell[0]][cell[1]][0]))\n",
    "                if len(domains[cell[0]][cell[1]]) == 0:\n",
    "                    return False\n",
    "    return True\n",
    "\n",
    "    \n",
    "def get_neightbor_domains(cell):\n",
    "    needed_domains = [(row,cell[1]) for row in range(9)]\n",
    "    needed_domains.extend([(cell[0],col) for col in range(9)])\n",
    "    row_block_start = (cell[0] // 3) * 3\n",
    "    col_block_start = (cell[1] // 3) * 3\n",
    "\n",
    "    for i in range(3):\n",
    "        for j in range(3):\n",
    "            needed_domains.append((row_block_start+i,col_block_start+j))\n",
    "\n",
    "    needed_domains = list(set(needed_domains))\n",
    "    needed_domains.remove((cell[0], cell[1]))\n",
    "    return needed_domains\n",
    "\n",
    "def AC3(puzzle, entry):\n",
    "\n",
    "    if not make_consistent(puzzle.domains, entry):\n",
    "        return False, puzzle\n",
    "\n",
    "    assign_values(puzzle)\n",
    "    queue = puzzle.get_indexes_non_empty_domain()\n",
    "    if len(queue) == 0:\n",
    "        return True, puzzle\n",
    "    while len(queue) != 0:\n",
    "        row, col = queue.pop()\n",
    "        current = puzzle.domains[row][col]\n",
    "        \n",
    "        for val in list(current):\n",
    "            puzzle_copy = copy.deepcopy(puzzle)\n",
    "            puzzle_copy.set_digit(row, col, val)\n",
    "            puzzle_copy.domains[row][col] = None\n",
    "            solvable, solved = AC3(puzzle_copy, (row, col, val))\n",
    "            if solvable:\n",
    "                return True, solved\n",
    "        \n",
    "        return False, puzzle\n",
    "    \n",
    "    return False, puzzle\n"
   ]
  },
  {
   "cell_type": "code",
   "execution_count": 207,
   "id": "d101f030",
   "metadata": {},
   "outputs": [
    {
     "name": "stdout",
     "output_type": "stream",
     "text": [
      "1 9 8 7 5 6 2 4 3\n",
      "7 5 4 2 8 3 6 1 9\n",
      "2 6 3 1 9 4 8 5 7\n",
      "6 1 7 4 2 9 5 3 8\n",
      "3 4 9 5 6 8 1 7 2\n",
      "5 8 2 3 1 7 9 6 4\n",
      "8 3 5 6 4 2 7 9 1\n",
      "4 2 1 9 7 5 3 8 6\n",
      "9 7 6 8 3 1 4 2 5\n"
     ]
    }
   ],
   "source": [
    "puzzle = SudokuPuzzle('./Puzzles/Easy-P1.txt')\n",
    "puzzle.set_domains()\n",
    "solv, solved = AC3(puzzle, None)\n",
    "solved.display()\n"
   ]
  },
  {
   "cell_type": "code",
   "execution_count": 209,
   "id": "ea1ef71f",
   "metadata": {},
   "outputs": [
    {
     "name": "stdout",
     "output_type": "stream",
     "text": [
      "5 7 8 3 6 9 2 4 1\n",
      "3 9 6 1 2 4 8 5 7\n",
      "1 4 2 5 7 8 9 3 6\n",
      "2 8 3 7 9 6 5 1 4\n",
      "9 6 4 8 1 5 7 2 3\n",
      "7 1 5 2 4 3 6 9 8\n",
      "8 3 1 6 5 2 4 7 9\n",
      "6 2 9 4 3 7 1 8 5\n",
      "4 5 7 9 8 1 3 6 2\n"
     ]
    }
   ],
   "source": [
    "puzzle = SudokuPuzzle('./Puzzles/Easy-P2.txt')\n",
    "puzzle.set_domains()\n",
    "solv, solved = AC3(puzzle, None)\n",
    "solved.display()"
   ]
  },
  {
   "cell_type": "code",
   "execution_count": 210,
   "id": "22dbc634",
   "metadata": {},
   "outputs": [
    {
     "name": "stdout",
     "output_type": "stream",
     "text": [
      "1 3 2 5 6 9 4 8 7\n",
      "6 4 7 2 8 3 5 9 1\n",
      "8 5 9 1 4 7 3 2 6\n",
      "2 1 5 6 9 4 8 7 3\n",
      "7 6 3 8 1 5 9 4 2\n",
      "4 9 8 7 3 2 6 1 5\n",
      "5 8 1 9 2 6 7 3 4\n",
      "3 2 6 4 7 8 1 5 9\n",
      "9 7 4 3 5 1 2 6 8\n"
     ]
    }
   ],
   "source": [
    "puzzle = SudokuPuzzle('./Puzzles/Easy-P3.txt')\n",
    "puzzle.set_domains()\n",
    "solv, solved = AC3(puzzle, None)\n",
    "solved.display()"
   ]
  },
  {
   "cell_type": "code",
   "execution_count": 211,
   "id": "ca71e200",
   "metadata": {},
   "outputs": [
    {
     "name": "stdout",
     "output_type": "stream",
     "text": [
      "5 6 2 4 7 1 9 8 3\n",
      "4 8 7 3 2 9 5 6 1\n",
      "3 1 9 6 5 8 7 4 2\n",
      "2 5 3 9 8 6 1 7 4\n",
      "8 7 6 2 1 4 3 5 9\n",
      "9 4 1 5 3 7 8 2 6\n",
      "1 9 4 8 6 5 2 3 7\n",
      "6 2 5 7 9 3 4 1 8\n",
      "7 3 8 1 4 2 6 9 5\n"
     ]
    }
   ],
   "source": [
    "puzzle = SudokuPuzzle('./Puzzles/Easy-P4.txt')\n",
    "puzzle.set_domains()\n",
    "solv, solved = AC3(puzzle, None)\n",
    "solved.display()"
   ]
  },
  {
   "cell_type": "code",
   "execution_count": 213,
   "id": "531ff3c3",
   "metadata": {},
   "outputs": [
    {
     "name": "stdout",
     "output_type": "stream",
     "text": [
      "2 5 3 9 8 4 7 1 6\n",
      "9 8 4 1 7 6 3 2 5\n",
      "6 1 7 3 2 5 8 4 9\n",
      "5 4 1 7 3 8 9 6 2\n",
      "3 9 2 6 4 1 5 8 7\n",
      "8 7 6 5 9 2 4 3 1\n",
      "7 2 5 4 1 3 6 9 8\n",
      "4 6 8 2 5 9 1 7 3\n",
      "1 3 9 8 6 7 2 5 4\n"
     ]
    }
   ],
   "source": [
    "puzzle = SudokuPuzzle('./Puzzles/Med-P1.txt')\n",
    "puzzle.set_domains()\n",
    "solv, solved = AC3(puzzle, None)\n",
    "solved.display()"
   ]
  },
  {
   "cell_type": "code",
   "execution_count": 214,
   "id": "9d5e20ca",
   "metadata": {},
   "outputs": [
    {
     "name": "stdout",
     "output_type": "stream",
     "text": [
      "6 7 9 4 3 5 1 2 8\n",
      "3 4 2 9 8 1 6 5 7\n",
      "8 5 1 2 6 7 9 3 4\n",
      "4 1 3 7 2 6 5 8 9\n",
      "9 6 5 3 4 8 7 1 2\n",
      "2 8 7 5 1 9 3 4 6\n",
      "5 9 4 1 7 2 8 6 3\n",
      "7 2 8 6 5 3 4 9 1\n",
      "1 3 6 8 9 4 2 7 5\n"
     ]
    }
   ],
   "source": [
    "puzzle = SudokuPuzzle('./Puzzles/Med-P2.txt')\n",
    "puzzle.set_domains()\n",
    "solv, solved = AC3(puzzle, None)\n",
    "solved.display()\n",
    "\n"
   ]
  },
  {
   "cell_type": "code",
   "execution_count": 215,
   "id": "6ea89d05",
   "metadata": {},
   "outputs": [
    {
     "name": "stdout",
     "output_type": "stream",
     "text": [
      "2 5 3 6 1 9 8 7 4\n",
      "6 9 1 7 8 4 5 3 2\n",
      "7 8 4 2 3 5 6 9 1\n",
      "1 7 5 3 6 2 4 8 9\n",
      "8 6 2 4 9 7 1 5 3\n",
      "3 4 9 8 5 1 2 6 7\n",
      "4 3 6 1 7 8 9 2 5\n",
      "9 2 8 5 4 3 7 1 6\n",
      "5 1 7 9 2 6 3 4 8\n"
     ]
    }
   ],
   "source": [
    "puzzle = SudokuPuzzle('./Puzzles/Med-P3.txt')\n",
    "puzzle.set_domains()\n",
    "solv, solved = AC3(puzzle, None)\n",
    "solved.display()"
   ]
  },
  {
   "cell_type": "code",
   "execution_count": 216,
   "id": "16e14bf4",
   "metadata": {},
   "outputs": [
    {
     "name": "stdout",
     "output_type": "stream",
     "text": [
      "4 2 1 7 9 6 3 5 8\n",
      "9 5 6 8 3 2 7 1 4\n",
      "3 8 7 4 5 1 2 6 9\n",
      "8 4 9 5 6 7 1 3 2\n",
      "7 6 2 1 8 3 9 4 5\n",
      "1 3 5 2 4 9 8 7 6\n",
      "6 1 4 3 2 8 5 9 7\n",
      "2 9 3 6 7 5 4 8 1\n",
      "5 7 8 9 1 4 6 2 3\n"
     ]
    }
   ],
   "source": [
    "puzzle = SudokuPuzzle('./Puzzles/Med-P4.txt')\n",
    "puzzle.set_domains()\n",
    "solv, solved = AC3(puzzle, None)\n",
    "solved.display()"
   ]
  },
  {
   "cell_type": "code",
   "execution_count": 217,
   "id": "8edcdcb7",
   "metadata": {},
   "outputs": [
    {
     "name": "stdout",
     "output_type": "stream",
     "text": [
      "3 9 4 5 2 8 7 1 6\n",
      "1 6 2 9 4 7 8 3 5\n",
      "5 7 8 3 6 1 4 2 9\n",
      "8 1 7 2 9 6 5 4 3\n",
      "2 4 5 1 8 3 6 9 7\n",
      "9 3 6 7 5 4 2 8 1\n",
      "6 2 3 4 1 5 9 7 8\n",
      "7 8 9 6 3 2 1 5 4\n",
      "4 5 1 8 7 9 3 6 2\n"
     ]
    }
   ],
   "source": [
    "puzzle = SudokuPuzzle('./Puzzles/Hard-P1.txt')\n",
    "puzzle.set_domains()\n",
    "solv, solved = AC3(puzzle, None)\n",
    "solved.display()"
   ]
  },
  {
   "cell_type": "code",
   "execution_count": 218,
   "id": "15d4bf21",
   "metadata": {},
   "outputs": [
    {
     "name": "stdout",
     "output_type": "stream",
     "text": [
      "1 9 7 5 3 6 2 4 8\n",
      "5 6 3 4 2 8 1 9 7\n",
      "8 2 4 9 7 1 6 5 3\n",
      "2 1 5 6 8 4 7 3 9\n",
      "7 4 9 1 5 3 8 6 2\n",
      "3 8 6 2 9 7 4 1 5\n",
      "9 7 1 3 6 2 5 8 4\n",
      "6 5 8 7 4 9 3 2 1\n",
      "4 3 2 8 1 5 9 7 6\n"
     ]
    }
   ],
   "source": [
    "puzzle = SudokuPuzzle('./Puzzles/Hard-P2.txt')\n",
    "puzzle.set_domains()\n",
    "solv, solved = AC3(puzzle, None)\n",
    "solved.display()"
   ]
  },
  {
   "cell_type": "code",
   "execution_count": 219,
   "id": "6ee12455",
   "metadata": {},
   "outputs": [
    {
     "name": "stdout",
     "output_type": "stream",
     "text": [
      "3 6 9 4 2 5 8 7 1\n",
      "1 8 2 3 7 9 6 5 4\n",
      "4 7 5 8 6 1 3 9 2\n",
      "7 4 6 9 5 2 1 8 3\n",
      "2 5 1 6 8 3 9 4 7\n",
      "9 3 8 7 1 4 5 2 6\n",
      "5 9 3 2 4 6 7 1 8\n",
      "6 2 7 1 9 8 4 3 5\n",
      "8 1 4 5 3 7 2 6 9\n"
     ]
    }
   ],
   "source": [
    "puzzle = SudokuPuzzle('./Puzzles/Hard-P3.txt')\n",
    "puzzle.set_domains()\n",
    "solv, solved = AC3(puzzle, None)\n",
    "solved.display()"
   ]
  },
  {
   "cell_type": "code",
   "execution_count": 220,
   "id": "508ff116",
   "metadata": {},
   "outputs": [
    {
     "name": "stdout",
     "output_type": "stream",
     "text": [
      "4 2 3 5 1 8 9 6 7\n",
      "5 7 6 3 9 4 1 8 2\n",
      "8 9 1 7 2 6 5 4 3\n",
      "3 4 7 2 5 1 6 9 8\n",
      "6 8 5 9 4 7 3 2 1\n",
      "2 1 9 8 6 3 7 5 4\n",
      "7 3 2 6 8 9 4 1 5\n",
      "9 5 4 1 3 2 8 7 6\n",
      "1 6 8 4 7 5 2 3 9\n"
     ]
    }
   ],
   "source": [
    "puzzle = SudokuPuzzle('./Puzzles/Hard-P4.txt')\n",
    "puzzle.set_domains()\n",
    "solv, solved = AC3(puzzle, None)\n",
    "solved.display()"
   ]
  },
  {
   "cell_type": "code",
   "execution_count": 199,
   "id": "7d31514f",
   "metadata": {},
   "outputs": [
    {
     "name": "stdout",
     "output_type": "stream",
     "text": [
      "9 7 3 1 6 4 8 2 5\n",
      "4 6 5 3 8 2 1 9 7\n",
      "1 8 2 5 9 7 3 4 6\n",
      "7 3 4 9 1 5 2 6 8\n",
      "6 5 1 2 3 8 9 7 4\n",
      "2 9 8 7 4 6 5 3 1\n",
      "8 2 7 4 5 3 6 1 9\n",
      "5 4 9 6 2 1 7 8 3\n",
      "3 1 6 8 7 9 4 5 2\n"
     ]
    }
   ],
   "source": [
    "puzzle = SudokuPuzzle('./Puzzles/Evil-P1.txt')\n",
    "puzzle.set_domains()\n",
    "solv, solved = AC3(puzzle, None)\n",
    "solved.display()"
   ]
  },
  {
   "cell_type": "code",
   "execution_count": 200,
   "id": "b8b4f240",
   "metadata": {},
   "outputs": [
    {
     "name": "stdout",
     "output_type": "stream",
     "text": [
      "2 3 8 6 1 9 5 4 7\n",
      "1 9 7 3 5 4 6 2 8\n",
      "6 5 4 8 2 7 9 3 1\n",
      "7 1 5 9 3 8 4 6 2\n",
      "4 2 3 5 7 6 8 1 9\n",
      "8 6 9 1 4 2 3 7 5\n",
      "9 4 2 7 8 3 1 5 6\n",
      "3 8 1 2 6 5 7 9 4\n",
      "5 7 6 4 9 1 2 8 3\n"
     ]
    }
   ],
   "source": [
    "puzzle = SudokuPuzzle('./Puzzles/Evil-P2.txt')\n",
    "puzzle.set_domains()\n",
    "solv, solved = AC3(puzzle, None)\n",
    "solved.display()"
   ]
  },
  {
   "cell_type": "code",
   "execution_count": 201,
   "id": "111cd77d",
   "metadata": {},
   "outputs": [
    {
     "name": "stdout",
     "output_type": "stream",
     "text": [
      "4 5 3 6 9 8 2 1 7\n",
      "6 9 2 7 1 3 8 4 5\n",
      "1 8 7 5 4 2 6 3 9\n",
      "3 4 9 8 2 5 1 7 6\n",
      "7 6 8 4 3 1 9 5 2\n",
      "5 2 1 9 7 6 3 8 4\n",
      "8 1 5 2 6 4 7 9 3\n",
      "2 7 4 3 8 9 5 6 1\n",
      "9 3 6 1 5 7 4 2 8\n"
     ]
    }
   ],
   "source": [
    "puzzle = SudokuPuzzle('./Puzzles/Evil-P3.txt')\n",
    "puzzle.set_domains()\n",
    "solv, solved = AC3(puzzle, None)\n",
    "solved.display()"
   ]
  },
  {
   "cell_type": "code",
   "execution_count": 202,
   "id": "3ed6dd15",
   "metadata": {},
   "outputs": [
    {
     "name": "stdout",
     "output_type": "stream",
     "text": [
      "2 5 3 9 1 4 6 8 7\n",
      "6 8 9 3 7 2 5 1 4\n",
      "7 1 4 8 5 6 2 9 3\n",
      "1 4 2 6 9 7 8 3 5\n",
      "5 3 8 4 2 1 9 7 6\n",
      "9 6 7 5 3 8 4 2 1\n",
      "8 7 1 2 6 5 3 4 9\n",
      "3 2 6 7 4 9 1 5 8\n",
      "4 9 5 1 8 3 7 6 2\n"
     ]
    }
   ],
   "source": [
    "puzzle = SudokuPuzzle('./Puzzles/Evil-P4.txt')\n",
    "puzzle.set_domains()\n",
    "solv, solved = AC3(puzzle, None)\n",
    "solved.display()"
   ]
  }
 ],
 "metadata": {
  "kernelspec": {
   "display_name": "thesis",
   "language": "python",
   "name": "python3"
  },
  "language_info": {
   "codemirror_mode": {
    "name": "ipython",
    "version": 3
   },
   "file_extension": ".py",
   "mimetype": "text/x-python",
   "name": "python",
   "nbconvert_exporter": "python",
   "pygments_lexer": "ipython3",
   "version": "3.10.16"
  }
 },
 "nbformat": 4,
 "nbformat_minor": 5
}
