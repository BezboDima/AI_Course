{
 "cells": [
  {
   "cell_type": "code",
   "execution_count": 18,
   "id": "e35ec98a-cad2-4862-81ba-5b85cd97c58f",
   "metadata": {},
   "outputs": [],
   "source": [
    "#Backtracking and Forward Tracking Solver#"
   ]
  },
  {
   "cell_type": "code",
   "execution_count": 27,
   "id": "b8f8b701-dd15-4e84-bb9b-0b8e50028b75",
   "metadata": {},
   "outputs": [
    {
     "name": "stdout",
     "output_type": "stream",
     "text": [
      "? 7 9 4 3 ? 1 ? ?\n",
      "3 ? ? ? ? ? 6 ? ?\n",
      "8 5 ? ? 6 7 ? 3 ?\n",
      "? ? ? ? ? 6 ? 8 ?\n",
      "? ? 5 ? 4 ? 7 ? ?\n",
      "? 8 ? 5 ? ? ? ? ?\n",
      "? 9 ? 1 7 ? ? 6 3\n",
      "? ? 8 ? ? ? ? ? 1\n",
      "? ? 6 ? 9 4 2 7 ?\n"
     ]
    }
   ],
   "source": [
    "import time\n",
    "import copy\n",
    "import sys\n",
    "sys.path.append(r'C:\\Users\\gavin\\OneDrive\\Desktop\\Artificial Intelligence')\n",
    "from sudoku_parser import SudokuPuzzle\n",
    "\n",
    "#load in Sudoku Puzzle#\n",
    "\n",
    "puzzle = SudokuPuzzle(r'C:\\Users\\gavin\\OneDrive\\Desktop\\Artificial Intelligence\\Med-P2.txt')\n",
    "puzzle.set_domains()\n",
    "puzzle.display()"
   ]
  },
  {
   "cell_type": "code",
   "execution_count": 28,
   "id": "e37b1ae3-d28c-4906-ab62-7e3c7e7fe4d8",
   "metadata": {},
   "outputs": [],
   "source": [
    "#Use Domains for Backtracking and Forward Tracking#"
   ]
  },
  {
   "cell_type": "code",
   "execution_count": 29,
   "id": "4f233128-efb6-41fd-aa56-77dee7620c38",
   "metadata": {},
   "outputs": [],
   "source": [
    "def get_neighbors(row, col):\n",
    "    neighbors = set()\n",
    "\n",
    "    #Row and Column Neighbors#\n",
    "    for i in range(9):\n",
    "        neighbors.add((row, i))\n",
    "        neighbors.add((i, col))\n",
    "\n",
    "    #Box Neighbors#\n",
    "    start_row, start_col = 3 * (row // 3), 3 * (col // 3)\n",
    "    for i in range(start_row, start_row + 3):\n",
    "        for j in range(start_col, start_col + 3):\n",
    "            neighbors.add((i, j))\n",
    "\n",
    "    neighbors.discard((row, col))\n",
    "    return neighbors\n"
   ]
  },
  {
   "cell_type": "code",
   "execution_count": 30,
   "id": "2223e5ee-a086-493e-9fcf-f9b5b86f71c1",
   "metadata": {},
   "outputs": [],
   "source": [
    "#Heuristic: Get Variables Using Degree#"
   ]
  },
  {
   "cell_type": "code",
   "execution_count": 31,
   "id": "cdd08963-7deb-4db0-b48b-380c1980beba",
   "metadata": {},
   "outputs": [],
   "source": [
    "def select_variable(puzzle: SudokuPuzzle):\n",
    "   #This is Used To Select the Varaible with the Most Constraints#\n",
    "    unassigned = puzzle.available_indexes()\n",
    "    max_degree = -1\n",
    "    best_cell = None\n",
    "\n",
    "    for row, col in unassigned:\n",
    "        degree = 0\n",
    "        for neighbors_row, neighbors_col in get_neighbors(row, col):\n",
    "            if puzzle.grid[neighbors_row][neighbors_col] == 0:\n",
    "                degree += 1\n",
    "        if degree > max_degree:\n",
    "            max_degree = degree\n",
    "            best_cell = (row, col)\n",
    "\n",
    "    return best_cell\n"
   ]
  },
  {
   "cell_type": "code",
   "execution_count": 32,
   "id": "ed338c62-4855-4800-8031-250fd74d145f",
   "metadata": {},
   "outputs": [],
   "source": [
    "#Backtracking and Forward Checking#"
   ]
  },
  {
   "cell_type": "code",
   "execution_count": 33,
   "id": "9e9ab600-f1c8-48a8-b78c-9029872ac0da",
   "metadata": {},
   "outputs": [],
   "source": [
    "def forward_checker(puzzle: SudokuPuzzle, row, col, value):\n",
    "    for r, c in get_neighbors(row, col):\n",
    "        if puzzle.grid[r][c] == 0 and puzzle.domains[r][c]:\n",
    "            if value in puzzle.domains[r][c]:\n",
    "                puzzle.domains[r][c].remove(value)\n",
    "                if not puzzle.domains[r][c]:\n",
    "                    return False\n",
    "    return True\n"
   ]
  },
  {
   "cell_type": "code",
   "execution_count": 34,
   "id": "d3b7129c-0fb3-40f7-8b68-6264af670197",
   "metadata": {},
   "outputs": [
    {
     "name": "stdout",
     "output_type": "stream",
     "text": [
      "\n",
      "✅ Puzzle Solved:\n",
      "6 7 9 4 3 5 1 2 8\n",
      "3 4 2 9 8 1 6 5 7\n",
      "8 5 1 2 6 7 9 3 4\n",
      "4 1 3 7 2 6 5 8 9\n",
      "9 6 5 3 4 8 7 1 2\n",
      "2 8 7 5 1 9 3 4 6\n",
      "5 9 4 1 7 2 8 6 3\n",
      "7 2 8 6 5 3 4 9 1\n",
      "1 3 6 8 9 4 2 7 5\n"
     ]
    }
   ],
   "source": [
    "def forward_solver(puzzle: SudokuPuzzle) -> bool:\n",
    "    if not puzzle.available_indexes():\n",
    "        return True  #Puzzle Solved\n",
    "\n",
    "    #Select variable using Heuristic (Degree)\n",
    "    row, col = select_variable(puzzle)\n",
    "    domain = puzzle.domains[row][col] or list(range(1, 10))\n",
    "\n",
    "    for value in domain:\n",
    "        puzzle.set_digit(row, col, value)\n",
    "\n",
    "        if puzzle.is_valid():\n",
    "            #Backup of Grid and Domains\n",
    "            backup_grid = copy.deepcopy(puzzle.grid)\n",
    "            backup_domains = copy.deepcopy(puzzle.domains)\n",
    "\n",
    "            #Forward Checking\n",
    "            if not forward_checker(puzzle, row, col, value):\n",
    "                # Restore state and continue\n",
    "                puzzle.grid = backup_grid\n",
    "                puzzle.domains = backup_domains\n",
    "                puzzle.set_digit(row, col, 0)\n",
    "                continue\n",
    "\n",
    "            if forward_solver(puzzle):\n",
    "                return True\n",
    "\n",
    "            #Backtrack\n",
    "            puzzle.grid = backup_grid\n",
    "            puzzle.domains = backup_domains\n",
    "            puzzle.set_digit(row, col, 0)\n",
    "        else:\n",
    "            puzzle.set_digit(row, col, 0)\n",
    "\n",
    "    return False  #No Solution\n",
    "\n",
    "#Test Print\n",
    "puzzle = SudokuPuzzle(r'C:\\Users\\gavin\\OneDrive\\Desktop\\Artificial Intelligence\\Med-P2.txt')\n",
    "puzzle.set_domains()\n",
    "\n",
    "if forward_solver(puzzle):\n",
    "    print(\"\\n✅ Puzzle Solved:\")\n",
    "    puzzle.display()\n",
    "else:\n",
    "    print(\"\\n❌ No solution found.\")\n",
    "\n"
   ]
  },
  {
   "cell_type": "code",
   "execution_count": null,
   "id": "73570c92-b1e0-4298-b3bd-9381950a574a",
   "metadata": {},
   "outputs": [],
   "source": [
    "#Detects Early Failures, and Preforms Forward Checking Steps"
   ]
  }
 ],
 "metadata": {
  "kernelspec": {
   "display_name": "Python 3 (ipykernel)",
   "language": "python",
   "name": "python3"
  },
  "language_info": {
   "codemirror_mode": {
    "name": "ipython",
    "version": 3
   },
   "file_extension": ".py",
   "mimetype": "text/x-python",
   "name": "python",
   "nbconvert_exporter": "python",
   "pygments_lexer": "ipython3",
   "version": "3.13.7"
  }
 },
 "nbformat": 4,
 "nbformat_minor": 5
}
